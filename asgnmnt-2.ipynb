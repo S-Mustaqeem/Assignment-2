{
 "cells": [
  {
   "cell_type": "markdown",
   "id": "016571ef-3aef-4593-90fb-ace97db6b50c",
   "metadata": {},
   "source": [
    "Q1. How do you comment code in Python? What are the different types of comments?\n"
   ]
  },
  {
   "cell_type": "code",
   "execution_count": 2,
   "id": "6211910a-b6a0-49f5-b6f8-3a082b3248c0",
   "metadata": {},
   "outputs": [],
   "source": [
    "#ans: Comment in python write with '#' , means if we have to write comment we start with # symbol."
   ]
  },
  {
   "cell_type": "code",
   "execution_count": 3,
   "id": "db87a983-f409-4f10-a13c-e931ed0e7843",
   "metadata": {},
   "outputs": [],
   "source": [
    "#there are three type of comment.\n"
   ]
  },
  {
   "cell_type": "code",
   "execution_count": 4,
   "id": "a6a71097-8f47-47ca-abc8-feca29b4f3a6",
   "metadata": {},
   "outputs": [],
   "source": [
    "#first: single line comment.\n",
    "#thisis example of single line comment."
   ]
  },
  {
   "cell_type": "code",
   "execution_count": 5,
   "id": "3cfdbba8-ad9b-4202-ae0f-b66e7dad4b85",
   "metadata": {},
   "outputs": [],
   "source": [
    "#second: multi line comment\n",
    "#this \n",
    "#is \n",
    "#example\n",
    "#of\n",
    "#multi-line\n",
    "#comment"
   ]
  },
  {
   "cell_type": "code",
   "execution_count": 34,
   "id": "015aca9b-feee-4499-bd3e-cdfa472dfc38",
   "metadata": {},
   "outputs": [
    {
     "data": {
      "text/plain": [
       "'this is example of \\n doc string comment'"
      ]
     },
     "execution_count": 34,
     "metadata": {},
     "output_type": "execute_result"
    }
   ],
   "source": [
    "#third: doc string comment\n",
    "#in this type we not use # ,we write  (''') or (\"\"\")\n",
    "'''this is example of \n",
    " doc string comment'''"
   ]
  },
  {
   "cell_type": "markdown",
   "id": "d1caf26f-3503-48b6-a9e5-bf2a88aebacc",
   "metadata": {},
   "source": [
    "Q2. What are variables in Python? How do you declare and assign values to variables?"
   ]
  },
  {
   "cell_type": "code",
   "execution_count": 2,
   "id": "0109d44f-597a-4f87-98a3-4ccc99ff50e9",
   "metadata": {},
   "outputs": [],
   "source": [
    "#ans: variable means we can store any kind of data at particular place with any name,\n",
    "#to assign values we used '='(equal to) symbol, left side of = is variable and other side is value,\n",
    "#example of variable and how to assign the value\n",
    "a= 100\n"
   ]
  },
  {
   "cell_type": "code",
   "execution_count": 3,
   "id": "71274d75-2447-48c1-be92-4bce74189206",
   "metadata": {},
   "outputs": [
    {
     "data": {
      "text/plain": [
       "100"
      ]
     },
     "execution_count": 3,
     "metadata": {},
     "output_type": "execute_result"
    }
   ],
   "source": [
    "a"
   ]
  },
  {
   "cell_type": "markdown",
   "id": "f784e79b-ff25-449c-80a7-6c838eb6811d",
   "metadata": {},
   "source": [
    "Q3. How do you convert one data type to another in Python?\n"
   ]
  },
  {
   "cell_type": "code",
   "execution_count": 21,
   "id": "093b1332-962d-44cb-a625-05b1fc6723ec",
   "metadata": {},
   "outputs": [
    {
     "data": {
      "text/plain": [
       "int"
      ]
     },
     "execution_count": 21,
     "metadata": {},
     "output_type": "execute_result"
    }
   ],
   "source": [
    "#to convert any type of data we directly write data type and thats set, for example\n",
    "num=100\n",
    "type(num)\n",
    "#here a is integer (or int in python language) "
   ]
  },
  {
   "cell_type": "code",
   "execution_count": 22,
   "id": "ccf46ca7-b551-4839-9cca-c8c7c700047f",
   "metadata": {},
   "outputs": [
    {
     "data": {
      "text/plain": [
       "str"
      ]
     },
     "execution_count": 22,
     "metadata": {},
     "output_type": "execute_result"
    }
   ],
   "source": [
    "#to convert this into string we write\n",
    "conv_num=str(type(num))\n",
    "type(conv_num)"
   ]
  },
  {
   "cell_type": "markdown",
   "id": "30601676-ab19-4621-8fc6-94d742202381",
   "metadata": {},
   "source": [
    "Q4. How do you write and execute a Python script from the command line?"
   ]
  },
  {
   "cell_type": "code",
   "execution_count": 23,
   "id": "f4e37ef1-6e1b-4090-8474-7f319c78c040",
   "metadata": {},
   "outputs": [
    {
     "data": {
      "text/plain": [
       "'first we write a program, after completing a proagram we press the RUN key or in jupyterLab shorkut key like shift+enter\\nafter execution program they show the result'"
      ]
     },
     "execution_count": 23,
     "metadata": {},
     "output_type": "execute_result"
    }
   ],
   "source": [
    "'''first we write a program, after completing a proagram we press the RUN key or in jupyterLab shorkut key like shift+enter\n",
    "after execution program they show the result'''"
   ]
  },
  {
   "cell_type": "markdown",
   "id": "b0317281-992a-46c7-b7ec-c7e1145f0201",
   "metadata": {},
   "source": [
    "Q5. Given a list my_list = [1, 2, 3, 4, 5], write the code to slice the list and obtain the sub-list [2, 3].\n"
   ]
  },
  {
   "cell_type": "code",
   "execution_count": 24,
   "id": "e6a51bcc-1f22-472b-9aa7-8c3b41b37c17",
   "metadata": {},
   "outputs": [],
   "source": [
    "my_list=[1,2,3,4,5]"
   ]
  },
  {
   "cell_type": "code",
   "execution_count": 27,
   "id": "66a54305-cbdf-42cf-80eb-110ef90efac9",
   "metadata": {},
   "outputs": [],
   "source": [
    "sub_list=my_list[1:3:1]"
   ]
  },
  {
   "cell_type": "code",
   "execution_count": 28,
   "id": "b0d3c7ef-4ab4-434f-9967-0e1492f9b867",
   "metadata": {},
   "outputs": [
    {
     "data": {
      "text/plain": [
       "[2, 3]"
      ]
     },
     "execution_count": 28,
     "metadata": {},
     "output_type": "execute_result"
    }
   ],
   "source": [
    "sub_list"
   ]
  },
  {
   "cell_type": "markdown",
   "id": "eab3175d-5c06-4449-a735-eb590a4e3d0d",
   "metadata": {},
   "source": [
    "Q6. What is a complex number in mathematics, and how is it represented in Python?"
   ]
  },
  {
   "cell_type": "code",
   "execution_count": 31,
   "id": "b4e6f33a-873f-45c4-bec4-2b46094a5c86",
   "metadata": {},
   "outputs": [
    {
     "data": {
      "text/plain": [
       "complex"
      ]
     },
     "execution_count": 31,
     "metadata": {},
     "output_type": "execute_result"
    }
   ],
   "source": [
    "#ans: complex number is a combination of imaginary and real number, imaginary number link with i in maths\n",
    "#for example 87+88i -> here 87 is a real number and 88 is a imaginary\n",
    "#in python imaginary number represented by j for example\n",
    "a=9+99j\n",
    "#here 9 is real number and 99 is imaginary\n",
    "type(a)"
   ]
  },
  {
   "cell_type": "markdown",
   "id": "46ca81f5-1e80-4ae9-afc8-7bc4e7fc6c43",
   "metadata": {},
   "source": [
    "Q7. What is the correct way to declare a variable named age and assign the value 25 to it?\n"
   ]
  },
  {
   "cell_type": "code",
   "execution_count": 1,
   "id": "39381ec7-e223-42c0-b006-89e2bc4bccc2",
   "metadata": {},
   "outputs": [],
   "source": [
    "#we can simply write 'age' and write equal to symbol to assign value '25' \n",
    "age = 25"
   ]
  },
  {
   "cell_type": "code",
   "execution_count": 2,
   "id": "f39188a0-0fff-4b17-b781-e8d555f2f00c",
   "metadata": {},
   "outputs": [
    {
     "data": {
      "text/plain": [
       "25"
      ]
     },
     "execution_count": 2,
     "metadata": {},
     "output_type": "execute_result"
    }
   ],
   "source": [
    "age"
   ]
  },
  {
   "cell_type": "markdown",
   "id": "2e038642-0422-45a2-b606-16a890bffd89",
   "metadata": {},
   "source": [
    "Q8. Declare a variable named price and assign the value 9.99 to it. What data type does this variable belong to?\n"
   ]
  },
  {
   "cell_type": "code",
   "execution_count": 3,
   "id": "1fb01ca2-efa2-4e21-8ce2-46128ccfbee0",
   "metadata": {},
   "outputs": [],
   "source": [
    "price = 9.99"
   ]
  },
  {
   "cell_type": "code",
   "execution_count": 4,
   "id": "5c536e3d-5f1e-48da-9846-ccac21c7750c",
   "metadata": {},
   "outputs": [
    {
     "data": {
      "text/plain": [
       "float"
      ]
     },
     "execution_count": 4,
     "metadata": {},
     "output_type": "execute_result"
    }
   ],
   "source": [
    "type(price)"
   ]
  },
  {
   "cell_type": "markdown",
   "id": "3f5e369b-a340-4f5f-9ed6-654c07768842",
   "metadata": {},
   "source": [
    "Q9. Create a variable named name and assign your full name to it as a string. How would you print the value of this variable?\n"
   ]
  },
  {
   "cell_type": "code",
   "execution_count": 5,
   "id": "c64e0273-ada0-41c2-8d3c-83a9b96940ed",
   "metadata": {},
   "outputs": [],
   "source": [
    "name = \"Sayyed Mustaqeem\""
   ]
  },
  {
   "cell_type": "code",
   "execution_count": 6,
   "id": "d8a4b3c2-4004-4a20-8e16-9f151c6bf2fa",
   "metadata": {},
   "outputs": [
    {
     "data": {
      "text/plain": [
       "'Sayyed Mustaqeem'"
      ]
     },
     "execution_count": 6,
     "metadata": {},
     "output_type": "execute_result"
    }
   ],
   "source": [
    "#to print value of this we type 'name' and press shift+enter.\n",
    "name"
   ]
  },
  {
   "cell_type": "markdown",
   "id": "be5b639d-8009-4af6-986b-6bda8c06f6db",
   "metadata": {},
   "source": [
    "Q10. Given the string \"Hello, World!\", extract the substring \"World\"."
   ]
  },
  {
   "cell_type": "code",
   "execution_count": 33,
   "id": "2ca131aa-ff1a-47ef-9c2d-90c6856721b2",
   "metadata": {},
   "outputs": [
    {
     "data": {
      "text/plain": [
       "'World!'"
      ]
     },
     "execution_count": 33,
     "metadata": {},
     "output_type": "execute_result"
    }
   ],
   "source": [
    "#first let \"Hello, World!\" as 's'\n",
    "s=\"Hello, World!\"\n",
    "#now \n",
    "s[7::]"
   ]
  },
  {
   "cell_type": "markdown",
   "id": "ff6346b0-da34-42dd-8eb9-574b44b1bad3",
   "metadata": {},
   "source": [
    "Q11. Create a variable named \"is_student\" and assign it a boolean value indicating whether you are currently a student or not."
   ]
  },
  {
   "cell_type": "code",
   "execution_count": 37,
   "id": "d417be47-02a1-467a-a738-6efe9f507503",
   "metadata": {},
   "outputs": [
    {
     "name": "stdout",
     "output_type": "stream",
     "text": [
      "Yes i am currently a student\n"
     ]
    }
   ],
   "source": [
    "is_student=True\n",
    "if is_student==1:\n",
    "    print(\"Yes i am currently a student\")\n",
    "else:\n",
    "    print (\"No i am not a student\")\n"
   ]
  },
  {
   "cell_type": "code",
   "execution_count": 40,
   "id": "7e76d88a-e31a-4f45-99a0-b3d3f522d689",
   "metadata": {},
   "outputs": [],
   "source": [
    "is_student={True:\"yes i am student\"}"
   ]
  },
  {
   "cell_type": "code",
   "execution_count": 41,
   "id": "419a8177-79df-451a-9da1-99a825331bbd",
   "metadata": {},
   "outputs": [
    {
     "data": {
      "text/plain": [
       "'yes i am student'"
      ]
     },
     "execution_count": 41,
     "metadata": {},
     "output_type": "execute_result"
    }
   ],
   "source": [
    "is_student[1]"
   ]
  },
  {
   "cell_type": "code",
   "execution_count": null,
   "id": "ba600882-f939-4f08-9628-5bce40ee4144",
   "metadata": {},
   "outputs": [],
   "source": []
  }
 ],
 "metadata": {
  "kernelspec": {
   "display_name": "Python 3 (ipykernel)",
   "language": "python",
   "name": "python3"
  },
  "language_info": {
   "codemirror_mode": {
    "name": "ipython",
    "version": 3
   },
   "file_extension": ".py",
   "mimetype": "text/x-python",
   "name": "python",
   "nbconvert_exporter": "python",
   "pygments_lexer": "ipython3",
   "version": "3.10.8"
  }
 },
 "nbformat": 4,
 "nbformat_minor": 5
}
